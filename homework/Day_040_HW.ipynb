{
 "cells": [
  {
   "cell_type": "markdown",
   "metadata": {},
   "source": [
    "## [作業重點]\n",
    "使用 Sklearn 中的 Lasso, Ridge 模型，來訓練各種資料集，務必了解送進去模型訓練的**資料型態**為何，也請了解模型中各項參數的意義。\n",
    "\n",
    "機器學習的模型非常多種，但要訓練的資料多半有固定的格式，確保你了解訓練資料的格式為何，這樣在應用新模型時，就能夠最快的上手開始訓練！"
   ]
  },
  {
   "cell_type": "markdown",
   "metadata": {},
   "source": [
    "## 練習時間\n",
    "試著使用 sklearn datasets 的其他資料集 (boston, ...)，來訓練自己的線性迴歸模型，並加上適當的正則化來觀察訓練情形。"
   ]
  },
  {
   "cell_type": "code",
   "execution_count": 1,
   "metadata": {},
   "outputs": [],
   "source": [
    "import numpy as np\n",
    "import matplotlib.pyplot as plt\n",
    "from sklearn import datasets, linear_model\n",
    "from sklearn.model_selection import train_test_split\n",
    "from sklearn.metrics import mean_squared_error, r2_score"
   ]
  },
  {
   "cell_type": "code",
   "execution_count": 31,
   "metadata": {},
   "outputs": [
    {
     "name": "stdout",
     "output_type": "stream",
     "text": [
      "[-8.40461675e-02 -1.29199059e-02  1.43812487e-01 -6.20614671e-14\n",
      " -9.67535388e+00  5.26783020e+00  5.09208275e-02  3.48021225e-02\n",
      "  2.88519322e-01 -1.04004541e-02 -1.15287624e+00  2.20919345e-02\n",
      " -3.92544720e-01]\n"
     ]
    },
    {
     "data": {
      "text/plain": [
       "31.395333633772886"
      ]
     },
     "execution_count": 31,
     "metadata": {},
     "output_type": "execute_result"
    }
   ],
   "source": [
    "#讀取資料\n",
    "boston = datasets.load_boston()\n",
    "# 建立訓練資料及測試資料\n",
    "train_X, test_X, train_Y,test_Y = train_test_split(boston.data,boston.target, test_size=0.9,random_state=4)\n",
    "# 建立模型\n",
    "regr = linear_model.LinearRegression()\n",
    "\n",
    "#fit!\n",
    "regr.fit(train_X,train_Y)\n",
    "\n",
    "y_pred = regr.predict(test_X)\n",
    "print(regr.coef_)\n",
    "mean_squared_error(test_Y,y_pred)"
   ]
  },
  {
   "cell_type": "code",
   "execution_count": 32,
   "metadata": {},
   "outputs": [
    {
     "name": "stdout",
     "output_type": "stream",
     "text": [
      "[-0.          0.02896066  0.09279376  0.         -0.          0.\n",
      "  0.05616596 -0.          0.05867993 -0.00540277 -0.5683137   0.01409174\n",
      " -0.70899752]\n"
     ]
    },
    {
     "data": {
      "text/plain": [
       "41.65814537639324"
      ]
     },
     "execution_count": 32,
     "metadata": {},
     "output_type": "execute_result"
    }
   ],
   "source": [
    "# 建立一個線性回歸模型\n",
    "lasso = linear_model.Lasso(alpha=1.0)\n",
    "\n",
    "# 將訓練資料丟進去模型訓練\n",
    "lasso.fit(train_X, train_Y)\n",
    "\n",
    "# 將測試資料丟進模型得到預測結果\n",
    "y_pred = lasso.predict(test_X)\n",
    "print(lasso.coef_)\n",
    "mean_squared_error(test_Y,y_pred)"
   ]
  },
  {
   "cell_type": "code",
   "execution_count": 34,
   "metadata": {},
   "outputs": [
    {
     "name": "stdout",
     "output_type": "stream",
     "text": [
      "[-0.08537281  0.02121816  0.13392272  0.         -0.1403867   1.89733088\n",
      "  0.06137735  0.04984746  0.33385079 -0.01618318 -0.98665556  0.01725211\n",
      " -0.61198466]\n"
     ]
    },
    {
     "data": {
      "text/plain": [
       "34.55357873194917"
      ]
     },
     "execution_count": 34,
     "metadata": {},
     "output_type": "execute_result"
    }
   ],
   "source": [
    "# 建立一個線性回歸模型\n",
    "ridge = linear_model.Ridge(alpha=9.0)\n",
    "\n",
    "# 將訓練資料丟進去模型訓練\n",
    "ridge.fit(train_X, train_Y)\n",
    "\n",
    "# 將測試資料丟進模型得到預測結果\n",
    "y_pred = ridge.predict(test_X)\n",
    "print(ridge.coef_)\n",
    "mean_squared_error(test_Y,y_pred)"
   ]
  },
  {
   "cell_type": "code",
   "execution_count": 35,
   "metadata": {},
   "outputs": [
    {
     "name": "stdout",
     "output_type": "stream",
     "text": [
      "[ 0.0445634  -0.01446476  0.78738673 -0.01508456 -0.01066863  0.65977096\n",
      " -0.47762688 -2.36878387 -0.25169384  0.17607071 -1.65467686 -0.12948902\n",
      " -0.00288075]\n"
     ]
    },
    {
     "data": {
      "text/plain": [
       "0.5981851230134033"
      ]
     },
     "execution_count": 35,
     "metadata": {},
     "output_type": "execute_result"
    }
   ],
   "source": [
    "wine = datasets.load_wine()\n",
    "train_X,test_X,train_Y,test_Y = train_test_split(wine.data,wine.target,test_size=0.9,random_state=6)\n",
    "regr = linear_model.LinearRegression()\n",
    "\n",
    "regr.fit(train_X,train_Y)\n",
    "y_pred = regr.predict(test_X)\n",
    "print(regr.coef_)\n",
    "mean_squared_error(test_Y,y_pred)"
   ]
  },
  {
   "cell_type": "code",
   "execution_count": 50,
   "metadata": {},
   "outputs": [
    {
     "name": "stdout",
     "output_type": "stream",
     "text": [
      "[ 0.        0.       -0.        0.        0.       -0.       -0.\n",
      "  0.       -0.        0.       -0.       -0.       -0.001453]\n"
     ]
    },
    {
     "data": {
      "text/plain": [
       "0.36254074805557623"
      ]
     },
     "execution_count": 50,
     "metadata": {},
     "output_type": "execute_result"
    }
   ],
   "source": [
    "lasso = linear_model.Lasso(alpha = 5)\n",
    "lasso.fit(train_X,train_Y)\n",
    "y_pred = lasso.predict(test_X)\n",
    "print(lasso.coef_)\n",
    "mean_squared_error(test_Y,y_pred)"
   ]
  },
  {
   "cell_type": "code",
   "execution_count": 45,
   "metadata": {},
   "outputs": [
    {
     "name": "stdout",
     "output_type": "stream",
     "text": [
      "[ 0.01427737  0.04056172 -0.00232892  0.02161653 -0.00143556 -0.0236006\n",
      " -0.07476575  0.00634904 -0.01994054  0.11705216 -0.01679498 -0.05187354\n",
      " -0.00154116]\n"
     ]
    },
    {
     "data": {
      "text/plain": [
       "0.14371220992943576"
      ]
     },
     "execution_count": 45,
     "metadata": {},
     "output_type": "execute_result"
    }
   ],
   "source": [
    "ridge = linear_model.Ridge(alpha=40)\n",
    "ridge.fit(train_X,train_Y)\n",
    "y_pred=ridge.predict(test_X)\n",
    "print(ridge.coef_)\n",
    "mean_squared_error(test_Y,y_pred)"
   ]
  },
  {
   "cell_type": "code",
   "execution_count": null,
   "metadata": {},
   "outputs": [],
   "source": []
  }
 ],
 "metadata": {
  "kernelspec": {
   "display_name": "Python 3",
   "language": "python",
   "name": "python3"
  },
  "language_info": {
   "codemirror_mode": {
    "name": "ipython",
    "version": 3
   },
   "file_extension": ".py",
   "mimetype": "text/x-python",
   "name": "python",
   "nbconvert_exporter": "python",
   "pygments_lexer": "ipython3",
   "version": "3.7.3"
  }
 },
 "nbformat": 4,
 "nbformat_minor": 2
}
