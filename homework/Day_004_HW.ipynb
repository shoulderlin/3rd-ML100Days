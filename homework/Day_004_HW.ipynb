{
 "cells": [
  {
   "cell_type": "markdown",
   "metadata": {},
   "source": [
    "## 練習時間\n",
    "資料的操作有很多，接下來的馬拉松中我們會介紹常被使用到的操作，參加者不妨先自行想像一下，第一次看到資料，我們一般會想知道什麼訊息？\n",
    "\n",
    "#### Ex: 如何知道資料的 row 數以及 column 數、有什麼欄位、多少欄位、如何截取部分的資料等等\n",
    "\n",
    "有了對資料的好奇之後，我們又怎麼通過程式碼來達成我們的目的呢？\n",
    "\n",
    "#### 可參考該[基礎教材](https://bookdata.readthedocs.io/en/latest/base/01_pandas.html#DataFrame-%E5%85%A5%E9%97%A8)或自行 google"
   ]
  },
  {
   "cell_type": "markdown",
   "metadata": {},
   "source": [
    "# [作業目標]\n",
    "- 熟悉更多的 Python 資料操作"
   ]
  },
  {
   "cell_type": "markdown",
   "metadata": {},
   "source": [
    "# [作業重點]\n",
    "- 列出資料的大小 (In[4], Hint : shape)\n",
    "- 列出所有欄位 (In[5], 有多種寫法)\n",
    "- 擷取部分資料 (In[6], Hint : loc 或 iloc)"
   ]
  },
  {
   "cell_type": "code",
   "execution_count": 1,
   "metadata": {},
   "outputs": [],
   "source": [
    "import os\n",
    "import numpy as np\n",
    "import pandas as pd"
   ]
  },
  {
   "cell_type": "code",
   "execution_count": 2,
   "metadata": {},
   "outputs": [],
   "source": [
    "# 設定 data_path\n",
    "dir_data = './data/'"
   ]
  },
  {
   "cell_type": "code",
   "execution_count": 3,
   "metadata": {},
   "outputs": [
    {
     "name": "stdout",
     "output_type": "stream",
     "text": [
      "Path of read in data: ./data/application_train.csv\n"
     ]
    }
   ],
   "source": [
    "f_app = os.path.join(dir_data, 'application_train.csv')\n",
    "print('Path of read in data: %s' % (f_app))\n",
    "app_train = pd.read_csv(f_app)"
   ]
  },
  {
   "cell_type": "markdown",
   "metadata": {},
   "source": [
    "### 如果沒有想法，可以先嘗試找出剛剛例子中提到的問題的答案\n",
    "#### 資料的 row 數以及 column 數"
   ]
  },
  {
   "cell_type": "code",
   "execution_count": 4,
   "metadata": {},
   "outputs": [
    {
     "data": {
      "text/plain": [
       "(307511, 122)"
      ]
     },
     "execution_count": 4,
     "metadata": {},
     "output_type": "execute_result"
    }
   ],
   "source": [
    "app_train.shape"
   ]
  },
  {
   "cell_type": "markdown",
   "metadata": {},
   "source": [
    "#### 列出所有欄位"
   ]
  },
  {
   "cell_type": "code",
   "execution_count": 6,
   "metadata": {},
   "outputs": [
    {
     "data": {
      "text/plain": [
       "Index(['SK_ID_CURR', 'TARGET', 'NAME_CONTRACT_TYPE', 'CODE_GENDER',\n",
       "       'FLAG_OWN_CAR', 'FLAG_OWN_REALTY', 'CNT_CHILDREN', 'AMT_INCOME_TOTAL',\n",
       "       'AMT_CREDIT', 'AMT_ANNUITY',\n",
       "       ...\n",
       "       'FLAG_DOCUMENT_18', 'FLAG_DOCUMENT_19', 'FLAG_DOCUMENT_20',\n",
       "       'FLAG_DOCUMENT_21', 'AMT_REQ_CREDIT_BUREAU_HOUR',\n",
       "       'AMT_REQ_CREDIT_BUREAU_DAY', 'AMT_REQ_CREDIT_BUREAU_WEEK',\n",
       "       'AMT_REQ_CREDIT_BUREAU_MON', 'AMT_REQ_CREDIT_BUREAU_QRT',\n",
       "       'AMT_REQ_CREDIT_BUREAU_YEAR'],\n",
       "      dtype='object', length=122)"
      ]
     },
     "execution_count": 6,
     "metadata": {},
     "output_type": "execute_result"
    }
   ],
   "source": [
    "app_train.columns"
   ]
  },
  {
   "cell_type": "markdown",
   "metadata": {},
   "source": [
    "#### 截取部分資料"
   ]
  },
  {
   "cell_type": "code",
   "execution_count": 7,
   "metadata": {},
   "outputs": [
    {
     "data": {
      "text/plain": [
       "SK_ID_CURR                                           100002\n",
       "TARGET                                                    1\n",
       "NAME_CONTRACT_TYPE                               Cash loans\n",
       "CODE_GENDER                                               M\n",
       "FLAG_OWN_CAR                                              N\n",
       "FLAG_OWN_REALTY                                           Y\n",
       "CNT_CHILDREN                                              0\n",
       "AMT_INCOME_TOTAL                                     202500\n",
       "AMT_CREDIT                                           406598\n",
       "AMT_ANNUITY                                         24700.5\n",
       "AMT_GOODS_PRICE                                      351000\n",
       "NAME_TYPE_SUITE                               Unaccompanied\n",
       "NAME_INCOME_TYPE                                    Working\n",
       "NAME_EDUCATION_TYPE           Secondary / secondary special\n",
       "NAME_FAMILY_STATUS                     Single / not married\n",
       "NAME_HOUSING_TYPE                         House / apartment\n",
       "REGION_POPULATION_RELATIVE                         0.018801\n",
       "DAYS_BIRTH                                            -9461\n",
       "DAYS_EMPLOYED                                          -637\n",
       "DAYS_REGISTRATION                                     -3648\n",
       "DAYS_ID_PUBLISH                                       -2120\n",
       "OWN_CAR_AGE                                             NaN\n",
       "FLAG_MOBIL                                                1\n",
       "FLAG_EMP_PHONE                                            1\n",
       "FLAG_WORK_PHONE                                           0\n",
       "FLAG_CONT_MOBILE                                          1\n",
       "FLAG_PHONE                                                1\n",
       "FLAG_EMAIL                                                0\n",
       "OCCUPATION_TYPE                                    Laborers\n",
       "CNT_FAM_MEMBERS                                           1\n",
       "                                          ...              \n",
       "DEF_30_CNT_SOCIAL_CIRCLE                                  2\n",
       "OBS_60_CNT_SOCIAL_CIRCLE                                  2\n",
       "DEF_60_CNT_SOCIAL_CIRCLE                                  2\n",
       "DAYS_LAST_PHONE_CHANGE                                -1134\n",
       "FLAG_DOCUMENT_2                                           0\n",
       "FLAG_DOCUMENT_3                                           1\n",
       "FLAG_DOCUMENT_4                                           0\n",
       "FLAG_DOCUMENT_5                                           0\n",
       "FLAG_DOCUMENT_6                                           0\n",
       "FLAG_DOCUMENT_7                                           0\n",
       "FLAG_DOCUMENT_8                                           0\n",
       "FLAG_DOCUMENT_9                                           0\n",
       "FLAG_DOCUMENT_10                                          0\n",
       "FLAG_DOCUMENT_11                                          0\n",
       "FLAG_DOCUMENT_12                                          0\n",
       "FLAG_DOCUMENT_13                                          0\n",
       "FLAG_DOCUMENT_14                                          0\n",
       "FLAG_DOCUMENT_15                                          0\n",
       "FLAG_DOCUMENT_16                                          0\n",
       "FLAG_DOCUMENT_17                                          0\n",
       "FLAG_DOCUMENT_18                                          0\n",
       "FLAG_DOCUMENT_19                                          0\n",
       "FLAG_DOCUMENT_20                                          0\n",
       "FLAG_DOCUMENT_21                                          0\n",
       "AMT_REQ_CREDIT_BUREAU_HOUR                                0\n",
       "AMT_REQ_CREDIT_BUREAU_DAY                                 0\n",
       "AMT_REQ_CREDIT_BUREAU_WEEK                                0\n",
       "AMT_REQ_CREDIT_BUREAU_MON                                 0\n",
       "AMT_REQ_CREDIT_BUREAU_QRT                                 0\n",
       "AMT_REQ_CREDIT_BUREAU_YEAR                                1\n",
       "Name: 0, Length: 122, dtype: object"
      ]
     },
     "execution_count": 7,
     "metadata": {},
     "output_type": "execute_result"
    }
   ],
   "source": [
    "app_train.loc[0]"
   ]
  },
  {
   "cell_type": "markdown",
   "metadata": {},
   "source": [
    "#### 還有各種數之不盡的資料操作，重點還是取決於實務中遇到的狀況和你想問的問題，在馬拉松中我們也會陸續提到更多例子"
   ]
  },
  {
   "cell_type": "code",
   "execution_count": null,
   "metadata": {
    "collapsed": true
   },
   "outputs": [],
   "source": []
  }
 ],
 "metadata": {
  "kernelspec": {
   "display_name": "Python 3",
   "language": "python",
   "name": "python3"
  },
  "language_info": {
   "codemirror_mode": {
    "name": "ipython",
    "version": 3
   },
   "file_extension": ".py",
   "mimetype": "text/x-python",
   "name": "python",
   "nbconvert_exporter": "python",
   "pygments_lexer": "ipython3",
   "version": "3.7.1"
  }
 },
 "nbformat": 4,
 "nbformat_minor": 2
}
